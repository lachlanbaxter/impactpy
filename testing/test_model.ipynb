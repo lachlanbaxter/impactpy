{
 "cells": [
  {
   "cell_type": "code",
   "execution_count": 29,
   "metadata": {},
   "outputs": [],
   "source": [
    "import polars as pl\n",
    "from pathlib import Path\n",
    "import sys\n",
    "import numpy as np\n",
    "import matplotlib.pyplot as plt\n",
    "sys.path.append('../')"
   ]
  },
  {
   "cell_type": "code",
   "execution_count": 2,
   "metadata": {},
   "outputs": [],
   "source": [
    "p = Path().resolve().parents[0] / 'data' / 'raw_bin_samples' / 'clean.arrow'\n",
    "lf = pl.scan_ipc(p)"
   ]
  },
  {
   "cell_type": "code",
   "execution_count": 3,
   "metadata": {},
   "outputs": [],
   "source": [
    "df = lf.collect()"
   ]
  },
  {
   "cell_type": "code",
   "execution_count": 4,
   "metadata": {},
   "outputs": [
    {
     "data": {
      "text/html": [
       "<div><style>\n",
       ".dataframe > thead > tr,\n",
       ".dataframe > tbody > tr {\n",
       "  text-align: right;\n",
       "  white-space: pre-wrap;\n",
       "}\n",
       "</style>\n",
       "<small>shape: (28_677_250, 4)</small><table border=\"1\" class=\"dataframe\"><thead><tr><th>symbol</th><th>timestamp</th><th>price</th><th>trade</th></tr><tr><td>cat</td><td>datetime[μs]</td><td>f64</td><td>i32</td></tr></thead><tbody><tr><td>&quot;ADSK&quot;</td><td>2019-01-02 09:30:00</td><td>125.205</td><td>-287</td></tr><tr><td>&quot;ADSK&quot;</td><td>2019-01-02 09:30:10</td><td>124.61</td><td>20</td></tr><tr><td>&quot;ADSK&quot;</td><td>2019-01-02 09:30:20</td><td>124.61</td><td>0</td></tr><tr><td>&quot;ADSK&quot;</td><td>2019-01-02 09:30:30</td><td>125.155</td><td>200</td></tr><tr><td>&quot;ADSK&quot;</td><td>2019-01-02 09:30:40</td><td>125.705</td><td>-385</td></tr><tr><td>&hellip;</td><td>&hellip;</td><td>&hellip;</td><td>&hellip;</td></tr><tr><td>&quot;ADS&quot;</td><td>2019-12-27 15:59:20</td><td>110.915</td><td>0</td></tr><tr><td>&quot;ADS&quot;</td><td>2019-12-27 15:59:30</td><td>110.95</td><td>0</td></tr><tr><td>&quot;ADS&quot;</td><td>2019-12-27 15:59:40</td><td>110.92</td><td>0</td></tr><tr><td>&quot;ADS&quot;</td><td>2019-12-27 15:59:50</td><td>110.91</td><td>-2</td></tr><tr><td>&quot;ADS&quot;</td><td>2019-12-27 16:00:00</td><td>110.91</td><td>0</td></tr></tbody></table></div>"
      ],
      "text/plain": [
       "shape: (28_677_250, 4)\n",
       "┌────────┬─────────────────────┬─────────┬───────┐\n",
       "│ symbol ┆ timestamp           ┆ price   ┆ trade │\n",
       "│ ---    ┆ ---                 ┆ ---     ┆ ---   │\n",
       "│ cat    ┆ datetime[μs]        ┆ f64     ┆ i32   │\n",
       "╞════════╪═════════════════════╪═════════╪═══════╡\n",
       "│ ADSK   ┆ 2019-01-02 09:30:00 ┆ 125.205 ┆ -287  │\n",
       "│ ADSK   ┆ 2019-01-02 09:30:10 ┆ 124.61  ┆ 20    │\n",
       "│ ADSK   ┆ 2019-01-02 09:30:20 ┆ 124.61  ┆ 0     │\n",
       "│ ADSK   ┆ 2019-01-02 09:30:30 ┆ 125.155 ┆ 200   │\n",
       "│ ADSK   ┆ 2019-01-02 09:30:40 ┆ 125.705 ┆ -385  │\n",
       "│ …      ┆ …                   ┆ …       ┆ …     │\n",
       "│ ADS    ┆ 2019-12-27 15:59:20 ┆ 110.915 ┆ 0     │\n",
       "│ ADS    ┆ 2019-12-27 15:59:30 ┆ 110.95  ┆ 0     │\n",
       "│ ADS    ┆ 2019-12-27 15:59:40 ┆ 110.92  ┆ 0     │\n",
       "│ ADS    ┆ 2019-12-27 15:59:50 ┆ 110.91  ┆ -2    │\n",
       "│ ADS    ┆ 2019-12-27 16:00:00 ┆ 110.91  ┆ 0     │\n",
       "└────────┴─────────────────────┴─────────┴───────┘"
      ]
     },
     "execution_count": 4,
     "metadata": {},
     "output_type": "execute_result"
    }
   ],
   "source": [
    "df"
   ]
  },
  {
   "cell_type": "code",
   "execution_count": 5,
   "metadata": {},
   "outputs": [],
   "source": [
    "from base.impactpy.model.subroutines import *\n",
    "lf = df.lazy()"
   ]
  },
  {
   "cell_type": "code",
   "execution_count": 6,
   "metadata": {},
   "outputs": [],
   "source": [
    "df = enhance_data(df, 30)"
   ]
  },
  {
   "cell_type": "code",
   "execution_count": 7,
   "metadata": {},
   "outputs": [
    {
     "data": {
      "text/html": [
       "<div><style>\n",
       ".dataframe > thead > tr,\n",
       ".dataframe > tbody > tr {\n",
       "  text-align: right;\n",
       "  white-space: pre-wrap;\n",
       "}\n",
       "</style>\n",
       "<small>shape: (28_677_250, 6)</small><table border=\"1\" class=\"dataframe\"><thead><tr><th>symbol</th><th>timestamp</th><th>price</th><th>trade</th><th>vola</th><th>adv</th></tr><tr><td>cat</td><td>datetime[μs]</td><td>f64</td><td>i32</td><td>f64</td><td>f64</td></tr></thead><tbody><tr><td>&quot;ADSK&quot;</td><td>2019-01-02 09:30:00</td><td>125.205</td><td>-287</td><td>null</td><td>null</td></tr><tr><td>&quot;ADSK&quot;</td><td>2019-01-02 09:30:10</td><td>124.61</td><td>20</td><td>null</td><td>null</td></tr><tr><td>&quot;ADSK&quot;</td><td>2019-01-02 09:30:20</td><td>124.61</td><td>0</td><td>null</td><td>null</td></tr><tr><td>&quot;ADSK&quot;</td><td>2019-01-02 09:30:30</td><td>125.155</td><td>200</td><td>null</td><td>null</td></tr><tr><td>&quot;ADSK&quot;</td><td>2019-01-02 09:30:40</td><td>125.705</td><td>-385</td><td>null</td><td>null</td></tr><tr><td>&hellip;</td><td>&hellip;</td><td>&hellip;</td><td>&hellip;</td><td>&hellip;</td><td>&hellip;</td></tr><tr><td>&quot;ADS&quot;</td><td>2019-12-27 15:59:20</td><td>110.915</td><td>0</td><td>0.02861</td><td>81498.9</td></tr><tr><td>&quot;ADS&quot;</td><td>2019-12-27 15:59:30</td><td>110.95</td><td>0</td><td>0.02861</td><td>81498.9</td></tr><tr><td>&quot;ADS&quot;</td><td>2019-12-27 15:59:40</td><td>110.92</td><td>0</td><td>0.02861</td><td>81498.9</td></tr><tr><td>&quot;ADS&quot;</td><td>2019-12-27 15:59:50</td><td>110.91</td><td>-2</td><td>0.02861</td><td>81498.9</td></tr><tr><td>&quot;ADS&quot;</td><td>2019-12-27 16:00:00</td><td>110.91</td><td>0</td><td>0.02861</td><td>81498.9</td></tr></tbody></table></div>"
      ],
      "text/plain": [
       "shape: (28_677_250, 6)\n",
       "┌────────┬─────────────────────┬─────────┬───────┬─────────┬─────────┐\n",
       "│ symbol ┆ timestamp           ┆ price   ┆ trade ┆ vola    ┆ adv     │\n",
       "│ ---    ┆ ---                 ┆ ---     ┆ ---   ┆ ---     ┆ ---     │\n",
       "│ cat    ┆ datetime[μs]        ┆ f64     ┆ i32   ┆ f64     ┆ f64     │\n",
       "╞════════╪═════════════════════╪═════════╪═══════╪═════════╪═════════╡\n",
       "│ ADSK   ┆ 2019-01-02 09:30:00 ┆ 125.205 ┆ -287  ┆ null    ┆ null    │\n",
       "│ ADSK   ┆ 2019-01-02 09:30:10 ┆ 124.61  ┆ 20    ┆ null    ┆ null    │\n",
       "│ ADSK   ┆ 2019-01-02 09:30:20 ┆ 124.61  ┆ 0     ┆ null    ┆ null    │\n",
       "│ ADSK   ┆ 2019-01-02 09:30:30 ┆ 125.155 ┆ 200   ┆ null    ┆ null    │\n",
       "│ ADSK   ┆ 2019-01-02 09:30:40 ┆ 125.705 ┆ -385  ┆ null    ┆ null    │\n",
       "│ …      ┆ …                   ┆ …       ┆ …     ┆ …       ┆ …       │\n",
       "│ ADS    ┆ 2019-12-27 15:59:20 ┆ 110.915 ┆ 0     ┆ 0.02861 ┆ 81498.9 │\n",
       "│ ADS    ┆ 2019-12-27 15:59:30 ┆ 110.95  ┆ 0     ┆ 0.02861 ┆ 81498.9 │\n",
       "│ ADS    ┆ 2019-12-27 15:59:40 ┆ 110.92  ┆ 0     ┆ 0.02861 ┆ 81498.9 │\n",
       "│ ADS    ┆ 2019-12-27 15:59:50 ┆ 110.91  ┆ -2    ┆ 0.02861 ┆ 81498.9 │\n",
       "│ ADS    ┆ 2019-12-27 16:00:00 ┆ 110.91  ┆ 0     ┆ 0.02861 ┆ 81498.9 │\n",
       "└────────┴─────────────────────┴─────────┴───────┴─────────┴─────────┘"
      ]
     },
     "execution_count": 7,
     "metadata": {},
     "output_type": "execute_result"
    }
   ],
   "source": [
    "df"
   ]
  },
  {
   "cell_type": "code",
   "execution_count": 35,
   "metadata": {},
   "outputs": [],
   "source": [
    "half_life = 300\n",
    "bin_duration = 10\n",
    "beta = np.log(2) / half_life\n",
    "decay = np.exp(-beta * bin_duration)"
   ]
  },
  {
   "cell_type": "code",
   "execution_count": 36,
   "metadata": {},
   "outputs": [],
   "source": [
    "impact = (df.lazy()\n",
    "\t.with_columns(pl.col('trade').mul('vola').truediv('adv'))\n",
    "\t\n",
    "\t# EWM = ax_n-1 + (1-a)x_n, but we want ax_n-1 + x_n to approximate\n",
    "\t# exponential decay of the impact state. So divide by 1-a first.\n",
    "\t.with_columns(pl.lit(1 - decay).alias('norm'))\n",
    "\t# Don't divide first impact state by 1-a.\n",
    "\t.with_columns(pl.col('norm').shift().over(['symbol', pl.col('timestamp').dt.date()]).fill_null(1))\n",
    "\t.with_columns(pl.col('trade').truediv('norm'))\n",
    "\t.drop('norm')\n",
    "\t\n",
    "\t.with_columns(pl.col('trade').ewm_mean(\n",
    "\t\talpha=(1 - decay), adjust=False, ignore_nulls=True\n",
    "\t).over([pl.col('symbol'), pl.col('timestamp').dt.date()]))\n",
    "\t.with_columns(pl.lit(1).alias('push'))\n",
    "\t# # .join(push.lazy(), on='symbol', how='left')\n",
    "\t.with_columns(pl.col('trade').mul('push').alias('impact'))\n",
    ").collect()"
   ]
  },
  {
   "cell_type": "code",
   "execution_count": 47,
   "metadata": {},
   "outputs": [],
   "source": [
    "impact2 = impact.with_columns(pl.col('price').pct_change().alias('return')).drop_nulls().tail(1_000_000)"
   ]
  },
  {
   "cell_type": "code",
   "execution_count": 51,
   "metadata": {},
   "outputs": [
    {
     "data": {
      "text/html": [
       "<div><style>\n",
       ".dataframe > thead > tr,\n",
       ".dataframe > tbody > tr {\n",
       "  text-align: right;\n",
       "  white-space: pre-wrap;\n",
       "}\n",
       "</style>\n",
       "<small>shape: (26_268_361, 9)</small><table border=\"1\" class=\"dataframe\"><thead><tr><th>symbol</th><th>timestamp</th><th>price</th><th>trade</th><th>vola</th><th>adv</th><th>push</th><th>impact</th><th>return</th></tr><tr><td>cat</td><td>datetime[μs]</td><td>f64</td><td>f64</td><td>f64</td><td>f64</td><td>i32</td><td>f64</td><td>f64</td></tr></thead><tbody><tr><td>&quot;ADSK&quot;</td><td>2019-02-01 09:30:00</td><td>147.67</td><td>0.0</td><td>0.034882</td><td>250607.285714</td><td>1</td><td>0.0</td><td>0.002648</td></tr><tr><td>&quot;ADSK&quot;</td><td>2019-02-01 09:30:10</td><td>147.66</td><td>0.0</td><td>0.034882</td><td>250607.285714</td><td>1</td><td>0.0</td><td>-0.000068</td></tr><tr><td>&quot;ADSK&quot;</td><td>2019-02-01 09:30:20</td><td>147.66</td><td>0.0</td><td>0.034882</td><td>250607.285714</td><td>1</td><td>0.0</td><td>0.0</td></tr><tr><td>&quot;ADSK&quot;</td><td>2019-02-01 09:30:30</td><td>147.66</td><td>0.0</td><td>0.034882</td><td>250607.285714</td><td>1</td><td>0.0</td><td>0.0</td></tr><tr><td>&quot;ADSK&quot;</td><td>2019-02-01 09:30:40</td><td>147.665</td><td>0.0</td><td>0.034882</td><td>250607.285714</td><td>1</td><td>0.0</td><td>0.000034</td></tr><tr><td>&hellip;</td><td>&hellip;</td><td>&hellip;</td><td>&hellip;</td><td>&hellip;</td><td>&hellip;</td><td>&hellip;</td><td>&hellip;</td><td>&hellip;</td></tr><tr><td>&quot;ADS&quot;</td><td>2019-12-27 15:59:20</td><td>110.915</td><td>-0.00017</td><td>0.02861</td><td>81498.9</td><td>1</td><td>-0.00017</td><td>-0.000045</td></tr><tr><td>&quot;ADS&quot;</td><td>2019-12-27 15:59:30</td><td>110.95</td><td>-0.000166</td><td>0.02861</td><td>81498.9</td><td>1</td><td>-0.000166</td><td>0.000316</td></tr><tr><td>&quot;ADS&quot;</td><td>2019-12-27 15:59:40</td><td>110.92</td><td>-0.000162</td><td>0.02861</td><td>81498.9</td><td>1</td><td>-0.000162</td><td>-0.00027</td></tr><tr><td>&quot;ADS&quot;</td><td>2019-12-27 15:59:50</td><td>110.91</td><td>-0.000159</td><td>0.02861</td><td>81498.9</td><td>1</td><td>-0.000159</td><td>-0.00009</td></tr><tr><td>&quot;ADS&quot;</td><td>2019-12-27 16:00:00</td><td>110.91</td><td>-0.000156</td><td>0.02861</td><td>81498.9</td><td>1</td><td>-0.000156</td><td>0.0</td></tr></tbody></table></div>"
      ],
      "text/plain": [
       "shape: (26_268_361, 9)\n",
       "┌────────┬────────────────┬─────────┬───────────┬───┬───────────────┬──────┬───────────┬───────────┐\n",
       "│ symbol ┆ timestamp      ┆ price   ┆ trade     ┆ … ┆ adv           ┆ push ┆ impact    ┆ return    │\n",
       "│ ---    ┆ ---            ┆ ---     ┆ ---       ┆   ┆ ---           ┆ ---  ┆ ---       ┆ ---       │\n",
       "│ cat    ┆ datetime[μs]   ┆ f64     ┆ f64       ┆   ┆ f64           ┆ i32  ┆ f64       ┆ f64       │\n",
       "╞════════╪════════════════╪═════════╪═══════════╪═══╪═══════════════╪══════╪═══════════╪═══════════╡\n",
       "│ ADSK   ┆ 2019-02-01     ┆ 147.67  ┆ 0.0       ┆ … ┆ 250607.285714 ┆ 1    ┆ 0.0       ┆ 0.002648  │\n",
       "│        ┆ 09:30:00       ┆         ┆           ┆   ┆               ┆      ┆           ┆           │\n",
       "│ ADSK   ┆ 2019-02-01     ┆ 147.66  ┆ 0.0       ┆ … ┆ 250607.285714 ┆ 1    ┆ 0.0       ┆ -0.000068 │\n",
       "│        ┆ 09:30:10       ┆         ┆           ┆   ┆               ┆      ┆           ┆           │\n",
       "│ ADSK   ┆ 2019-02-01     ┆ 147.66  ┆ 0.0       ┆ … ┆ 250607.285714 ┆ 1    ┆ 0.0       ┆ 0.0       │\n",
       "│        ┆ 09:30:20       ┆         ┆           ┆   ┆               ┆      ┆           ┆           │\n",
       "│ ADSK   ┆ 2019-02-01     ┆ 147.66  ┆ 0.0       ┆ … ┆ 250607.285714 ┆ 1    ┆ 0.0       ┆ 0.0       │\n",
       "│        ┆ 09:30:30       ┆         ┆           ┆   ┆               ┆      ┆           ┆           │\n",
       "│ ADSK   ┆ 2019-02-01     ┆ 147.665 ┆ 0.0       ┆ … ┆ 250607.285714 ┆ 1    ┆ 0.0       ┆ 0.000034  │\n",
       "│        ┆ 09:30:40       ┆         ┆           ┆   ┆               ┆      ┆           ┆           │\n",
       "│ …      ┆ …              ┆ …       ┆ …         ┆ … ┆ …             ┆ …    ┆ …         ┆ …         │\n",
       "│ ADS    ┆ 2019-12-27     ┆ 110.915 ┆ -0.00017  ┆ … ┆ 81498.9       ┆ 1    ┆ -0.00017  ┆ -0.000045 │\n",
       "│        ┆ 15:59:20       ┆         ┆           ┆   ┆               ┆      ┆           ┆           │\n",
       "│ ADS    ┆ 2019-12-27     ┆ 110.95  ┆ -0.000166 ┆ … ┆ 81498.9       ┆ 1    ┆ -0.000166 ┆ 0.000316  │\n",
       "│        ┆ 15:59:30       ┆         ┆           ┆   ┆               ┆      ┆           ┆           │\n",
       "│ ADS    ┆ 2019-12-27     ┆ 110.92  ┆ -0.000162 ┆ … ┆ 81498.9       ┆ 1    ┆ -0.000162 ┆ -0.00027  │\n",
       "│        ┆ 15:59:40       ┆         ┆           ┆   ┆               ┆      ┆           ┆           │\n",
       "│ ADS    ┆ 2019-12-27     ┆ 110.91  ┆ -0.000159 ┆ … ┆ 81498.9       ┆ 1    ┆ -0.000159 ┆ -0.00009  │\n",
       "│        ┆ 15:59:50       ┆         ┆           ┆   ┆               ┆      ┆           ┆           │\n",
       "│ ADS    ┆ 2019-12-27     ┆ 110.91  ┆ -0.000156 ┆ … ┆ 81498.9       ┆ 1    ┆ -0.000156 ┆ 0.0       │\n",
       "│        ┆ 16:00:00       ┆         ┆           ┆   ┆               ┆      ┆           ┆           │\n",
       "└────────┴────────────────┴─────────┴───────────┴───┴───────────────┴──────┴───────────┴───────────┘"
      ]
     },
     "execution_count": 51,
     "metadata": {},
     "output_type": "execute_result"
    }
   ],
   "source": [
    "impact"
   ]
  },
  {
   "cell_type": "code",
   "execution_count": 52,
   "metadata": {},
   "outputs": [
    {
     "data": {
      "text/html": [
       "<div><style>\n",
       ".dataframe > thead > tr,\n",
       ".dataframe > tbody > tr {\n",
       "  text-align: right;\n",
       "  white-space: pre-wrap;\n",
       "}\n",
       "</style>\n",
       "<small>shape: (1, 1)</small><table border=\"1\" class=\"dataframe\"><thead><tr><th>impact</th></tr><tr><td>f64</td></tr></thead><tbody><tr><td>0.080245</td></tr></tbody></table></div>"
      ],
      "text/plain": [
       "shape: (1, 1)\n",
       "┌──────────┐\n",
       "│ impact   │\n",
       "│ ---      │\n",
       "│ f64      │\n",
       "╞══════════╡\n",
       "│ 0.080245 │\n",
       "└──────────┘"
      ]
     },
     "execution_count": 52,
     "metadata": {},
     "output_type": "execute_result"
    }
   ],
   "source": [
    "from datetime import time\n",
    "impact.filter(\n",
    "\tpl.col('timestamp').dt.time().ge(time(10)) & pl.col('timestamp').dt.time().le(time(16))\n",
    ").select(pl.corr('impact', 'return'))"
   ]
  },
  {
   "cell_type": "code",
   "execution_count": 45,
   "metadata": {},
   "outputs": [],
   "source": [
    "x = impact.tail(100_000).select('impact')\n",
    "y = impact.tail(100_000).select('return')"
   ]
  },
  {
   "cell_type": "code",
   "execution_count": 46,
   "metadata": {},
   "outputs": [
    {
     "data": {
      "text/plain": [
       "<matplotlib.collections.PathCollection at 0x2377bc4eae0>"
      ]
     },
     "execution_count": 46,
     "metadata": {},
     "output_type": "execute_result"
    },
    {
     "data": {
      "image/png": "[encoded data removed]",
      "text/plain": [
       "<Figure size 640x480 with 1 Axes>"
      ]
     },
     "metadata": {},
     "output_type": "display_data"
    }
   ],
   "source": [
    "plt.scatter(x, y)"
   ]
  },
  {
   "cell_type": "code",
   "execution_count": 62,
   "metadata": {},
   "outputs": [
    {
     "name": "stderr",
     "output_type": "stream",
     "text": [
      "C:\\Users\\lachl\\AppData\\Local\\Temp\\ipykernel_14308\\2651680726.py:7: DeprecationWarning: The order of the parameters of `pivot` will change in the next breaking release. The order will become `index, columns, values` with `values` as an optional parameter. Use keyword arguments to silence this warning.\n",
      "  xx.pivot('d', 'c', ['a', 'b'])\n"
     ]
    },
    {
     "data": {
      "text/html": [
       "<div><style>\n",
       ".dataframe > thead > tr,\n",
       ".dataframe > tbody > tr {\n",
       "  text-align: right;\n",
       "  white-space: pre-wrap;\n",
       "}\n",
       "</style>\n",
       "<small>shape: (1, 10)</small><table border=\"1\" class=\"dataframe\"><thead><tr><th>c</th><th>{1,1}</th><th>{1,2}</th><th>{1,3}</th><th>{2,1}</th><th>{2,2}</th><th>{2,3}</th><th>{3,1}</th><th>{3,2}</th><th>{3,3}</th></tr><tr><td>i64</td><td>i64</td><td>i64</td><td>i64</td><td>i64</td><td>i64</td><td>i64</td><td>i64</td><td>i64</td><td>i64</td></tr></thead><tbody><tr><td>1</td><td>0</td><td>1</td><td>2</td><td>3</td><td>4</td><td>5</td><td>6</td><td>7</td><td>8</td></tr></tbody></table></div>"
      ],
      "text/plain": [
       "shape: (1, 10)\n",
       "┌─────┬───────┬───────┬───────┬───┬───────┬───────┬───────┬───────┐\n",
       "│ c   ┆ {1,1} ┆ {1,2} ┆ {1,3} ┆ … ┆ {2,3} ┆ {3,1} ┆ {3,2} ┆ {3,3} │\n",
       "│ --- ┆ ---   ┆ ---   ┆ ---   ┆   ┆ ---   ┆ ---   ┆ ---   ┆ ---   │\n",
       "│ i64 ┆ i64   ┆ i64   ┆ i64   ┆   ┆ i64   ┆ i64   ┆ i64   ┆ i64   │\n",
       "╞═════╪═══════╪═══════╪═══════╪═══╪═══════╪═══════╪═══════╪═══════╡\n",
       "│ 1   ┆ 0     ┆ 1     ┆ 2     ┆ … ┆ 5     ┆ 6     ┆ 7     ┆ 8     │\n",
       "└─────┴───────┴───────┴───────┴───┴───────┴───────┴───────┴───────┘"
      ]
     },
     "execution_count": 62,
     "metadata": {},
     "output_type": "execute_result"
    }
   ],
   "source": [
    "xx = pl.DataFrame({\n",
    "\t'a': [1, 1, 1, 2, 2, 2, 3, 3, 3],\n",
    "\t'b': [1, 2, 3] * 3,\n",
    "\t'c': [1] * 9,\n",
    "\t'd': list(range(9))\n",
    "})\n",
    "xx.pivot('d', 'c', ['a', 'b'])"
   ]
  },
  {
   "cell_type": "code",
   "execution_count": 69,
   "metadata": {},
   "outputs": [
    {
     "data": {
      "text/plain": [
       "9"
      ]
     },
     "execution_count": 69,
     "metadata": {},
     "output_type": "execute_result"
    }
   ],
   "source": [
    "from functools import reduce\n",
    "\n",
    "l = [\n",
    "\t(1, 2),\n",
    "\t(3, 4),\n",
    "\t(5, 6),\n",
    "]\n",
    "\n",
    "reduce(lambda a, *args: a + args[0][0], l, 0)"
   ]
  }
 ],
 "metadata": {
  "kernelspec": {
   "display_name": "ImpactPy",
   "language": "python",
   "name": "python3"
  },
  "language_info": {
   "codemirror_mode": {
    "name": "ipython",
    "version": 3
   },
   "file_extension": ".py",
   "mimetype": "text/x-python",
   "name": "python",
   "nbconvert_exporter": "python",
   "pygments_lexer": "ipython3",
   "version": "3.12.2"
  }
 },
 "nbformat": 4,
 "nbformat_minor": 2
}
