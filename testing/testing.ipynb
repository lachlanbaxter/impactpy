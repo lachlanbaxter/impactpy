{
 "cells": [
  {
   "cell_type": "code",
   "execution_count": 1,
   "metadata": {},
   "outputs": [],
   "source": [
    "import polars as pl\n",
    "from test_cfg import *"
   ]
  },
  {
   "cell_type": "code",
   "execution_count": 2,
   "metadata": {},
   "outputs": [],
   "source": [
    "all_df, daily_df = get_dfs()"
   ]
  },
  {
   "cell_type": "code",
   "execution_count": null,
   "metadata": {},
   "outputs": [],
   "source": [
    "daily_pdf = daily_df.to_pandas()"
   ]
  },
  {
   "cell_type": "code",
   "execution_count": null,
   "metadata": {},
   "outputs": [
    {
     "data": {
      "text/html": [
       "<div><style>\n",
       ".dataframe > thead > tr,\n",
       ".dataframe > tbody > tr {\n",
       "  text-align: right;\n",
       "  white-space: pre-wrap;\n",
       "}\n",
       "</style>\n",
       "<small>shape: (28_677_250, 6)</small><table border=\"1\" class=\"dataframe\"><thead><tr><th>stock</th><th>date</th><th>time</th><th>midEnd</th><th>trade</th><th>volume</th></tr><tr><td>cat</td><td>date</td><td>time</td><td>f64</td><td>i32</td><td>i32</td></tr></thead><tbody><tr><td>&quot;APD&quot;</td><td>2019-01-02</td><td>09:30:00</td><td>157.66</td><td>0</td><td>0</td></tr><tr><td>&quot;APD&quot;</td><td>2019-01-02</td><td>09:30:10</td><td>157.66</td><td>0</td><td>0</td></tr><tr><td>&quot;APD&quot;</td><td>2019-01-02</td><td>09:30:20</td><td>157.66</td><td>0</td><td>0</td></tr><tr><td>&quot;APD&quot;</td><td>2019-01-02</td><td>09:30:30</td><td>157.66</td><td>0</td><td>0</td></tr><tr><td>&quot;APD&quot;</td><td>2019-01-02</td><td>09:30:40</td><td>157.66</td><td>0</td><td>0</td></tr><tr><td>&hellip;</td><td>&hellip;</td><td>&hellip;</td><td>&hellip;</td><td>&hellip;</td><td>&hellip;</td></tr><tr><td>&quot;APA&quot;</td><td>2019-12-27</td><td>15:59:20</td><td>26.135</td><td>298</td><td>298</td></tr><tr><td>&quot;APA&quot;</td><td>2019-12-27</td><td>15:59:30</td><td>26.155</td><td>-426</td><td>426</td></tr><tr><td>&quot;APA&quot;</td><td>2019-12-27</td><td>15:59:40</td><td>26.125</td><td>-100</td><td>100</td></tr><tr><td>&quot;APA&quot;</td><td>2019-12-27</td><td>15:59:50</td><td>26.125</td><td>-224</td><td>224</td></tr><tr><td>&quot;APA&quot;</td><td>2019-12-27</td><td>16:00:00</td><td>26.125</td><td>0</td><td>0</td></tr></tbody></table></div>"
      ],
      "text/plain": [
       "shape: (28_677_250, 6)\n",
       "┌───────┬────────────┬──────────┬────────┬───────┬────────┐\n",
       "│ stock ┆ date       ┆ time     ┆ midEnd ┆ trade ┆ volume │\n",
       "│ ---   ┆ ---        ┆ ---      ┆ ---    ┆ ---   ┆ ---    │\n",
       "│ cat   ┆ date       ┆ time     ┆ f64    ┆ i32   ┆ i32    │\n",
       "╞═══════╪════════════╪══════════╪════════╪═══════╪════════╡\n",
       "│ APD   ┆ 2019-01-02 ┆ 09:30:00 ┆ 157.66 ┆ 0     ┆ 0      │\n",
       "│ APD   ┆ 2019-01-02 ┆ 09:30:10 ┆ 157.66 ┆ 0     ┆ 0      │\n",
       "│ APD   ┆ 2019-01-02 ┆ 09:30:20 ┆ 157.66 ┆ 0     ┆ 0      │\n",
       "│ APD   ┆ 2019-01-02 ┆ 09:30:30 ┆ 157.66 ┆ 0     ┆ 0      │\n",
       "│ APD   ┆ 2019-01-02 ┆ 09:30:40 ┆ 157.66 ┆ 0     ┆ 0      │\n",
       "│ …     ┆ …          ┆ …        ┆ …      ┆ …     ┆ …      │\n",
       "│ APA   ┆ 2019-12-27 ┆ 15:59:20 ┆ 26.135 ┆ 298   ┆ 298    │\n",
       "│ APA   ┆ 2019-12-27 ┆ 15:59:30 ┆ 26.155 ┆ -426  ┆ 426    │\n",
       "│ APA   ┆ 2019-12-27 ┆ 15:59:40 ┆ 26.125 ┆ -100  ┆ 100    │\n",
       "│ APA   ┆ 2019-12-27 ┆ 15:59:50 ┆ 26.125 ┆ -224  ┆ 224    │\n",
       "│ APA   ┆ 2019-12-27 ┆ 16:00:00 ┆ 26.125 ┆ 0     ┆ 0      │\n",
       "└───────┴────────────┴──────────┴────────┴───────┴────────┘"
      ]
     },
     "execution_count": 4,
     "metadata": {},
     "output_type": "execute_result"
    }
   ],
   "source": [
    "all_df"
   ]
  },
  {
   "cell_type": "code",
   "execution_count": null,
   "metadata": {},
   "outputs": [],
   "source": [
    "daily_pdf.pivot(index='stock', columns='date', values='adv').T.plot()"
   ]
  },
  {
   "cell_type": "code",
   "execution_count": null,
   "metadata": {},
   "outputs": [
    {
     "data": {
      "text/html": [
       "<div><style>\n",
       ".dataframe > thead > tr,\n",
       ".dataframe > tbody > tr {\n",
       "  text-align: right;\n",
       "  white-space: pre-wrap;\n",
       "}\n",
       "</style>\n",
       "<small>shape: (249, 4)</small><table border=\"1\" class=\"dataframe\"><thead><tr><th>stock</th><th>date</th><th>adv</th><th>vol</th></tr><tr><td>cat</td><td>date</td><td>f64</td><td>f64</td></tr></thead><tbody><tr><td>&quot;ADS&quot;</td><td>2019-01-02</td><td>null</td><td>null</td></tr><tr><td>&quot;ADS&quot;</td><td>2019-01-03</td><td>null</td><td>null</td></tr><tr><td>&quot;ADS&quot;</td><td>2019-01-04</td><td>null</td><td>null</td></tr><tr><td>&quot;ADS&quot;</td><td>2019-01-07</td><td>null</td><td>null</td></tr><tr><td>&quot;ADS&quot;</td><td>2019-01-08</td><td>null</td><td>null</td></tr><tr><td>&hellip;</td><td>&hellip;</td><td>&hellip;</td><td>&hellip;</td></tr><tr><td>&quot;ADS&quot;</td><td>2019-12-19</td><td>90423.619048</td><td>0.000303</td></tr><tr><td>&quot;ADS&quot;</td><td>2019-12-20</td><td>88878.952381</td><td>0.000304</td></tr><tr><td>&quot;ADS&quot;</td><td>2019-12-23</td><td>85781.4</td><td>0.000297</td></tr><tr><td>&quot;ADS&quot;</td><td>2019-12-24</td><td>82936.666667</td><td>0.000293</td></tr><tr><td>&quot;ADS&quot;</td><td>2019-12-26</td><td>81498.9</td><td>0.000286</td></tr></tbody></table></div>"
      ],
      "text/plain": [
       "shape: (249, 4)\n",
       "┌───────┬────────────┬──────────────┬──────────┐\n",
       "│ stock ┆ date       ┆ adv          ┆ vol      │\n",
       "│ ---   ┆ ---        ┆ ---          ┆ ---      │\n",
       "│ cat   ┆ date       ┆ f64          ┆ f64      │\n",
       "╞═══════╪════════════╪══════════════╪══════════╡\n",
       "│ ADS   ┆ 2019-01-02 ┆ null         ┆ null     │\n",
       "│ ADS   ┆ 2019-01-03 ┆ null         ┆ null     │\n",
       "│ ADS   ┆ 2019-01-04 ┆ null         ┆ null     │\n",
       "│ ADS   ┆ 2019-01-07 ┆ null         ┆ null     │\n",
       "│ ADS   ┆ 2019-01-08 ┆ null         ┆ null     │\n",
       "│ …     ┆ …          ┆ …            ┆ …        │\n",
       "│ ADS   ┆ 2019-12-19 ┆ 90423.619048 ┆ 0.000303 │\n",
       "│ ADS   ┆ 2019-12-20 ┆ 88878.952381 ┆ 0.000304 │\n",
       "│ ADS   ┆ 2019-12-23 ┆ 85781.4      ┆ 0.000297 │\n",
       "│ ADS   ┆ 2019-12-24 ┆ 82936.666667 ┆ 0.000293 │\n",
       "│ ADS   ┆ 2019-12-26 ┆ 81498.9      ┆ 0.000286 │\n",
       "└───────┴────────────┴──────────────┴──────────┘"
      ]
     },
     "execution_count": 51,
     "metadata": {},
     "output_type": "execute_result"
    }
   ],
   "source": [
    "daily_df.filter(pl.col('stock') == 'ADS')"
   ]
  },
  {
   "cell_type": "code",
   "execution_count": null,
   "metadata": {},
   "outputs": [],
   "source": [
    "import sys\n",
    "sys.path.append('../')\n",
    "from models.impact_model import *"
   ]
  },
  {
   "cell_type": "code",
   "execution_count": null,
   "metadata": {},
   "outputs": [],
   "source": [
    "trade_df = all_df"
   ]
  },
  {
   "cell_type": "code",
   "execution_count": null,
   "metadata": {},
   "outputs": [],
   "source": [
    "trade_df = trade_df.join(daily_df, how='left', on=['stock', 'date'])"
   ]
  },
  {
   "cell_type": "code",
   "execution_count": null,
   "metadata": {},
   "outputs": [],
   "source": [
    "ow = OWModel(0.98, 100000)\n",
    "impacted_df = ow.subtract_impact(trade_df).collect()"
   ]
  },
  {
   "cell_type": "code",
   "execution_count": null,
   "metadata": {},
   "outputs": [
    {
     "data": {
      "text/html": [
       "<div><style>\n",
       ".dataframe > thead > tr,\n",
       ".dataframe > tbody > tr {\n",
       "  text-align: right;\n",
       "  white-space: pre-wrap;\n",
       "}\n",
       "</style>\n",
       "<small>shape: (26_151_311, 10)</small><table border=\"1\" class=\"dataframe\"><thead><tr><th>stock</th><th>date</th><th>time</th><th>midEnd</th><th>trade</th><th>volume</th><th>adv</th><th>vol</th><th>impact</th><th>impacted_price</th></tr><tr><td>cat</td><td>date</td><td>time</td><td>f64</td><td>i32</td><td>i32</td><td>f64</td><td>f64</td><td>f64</td><td>f64</td></tr></thead><tbody><tr><td>&quot;ADSK&quot;</td><td>2019-02-04</td><td>09:30:00</td><td>149.25</td><td>-404</td><td>404</td><td>237350.7</td><td>0.000308</td><td>-0.001071</td><td>149.248929</td></tr><tr><td>&quot;ADSK&quot;</td><td>2019-02-04</td><td>09:30:10</td><td>149.22</td><td>0</td><td>0</td><td>237350.7</td><td>0.000308</td><td>-0.00105</td><td>149.21895</td></tr><tr><td>&quot;ADSK&quot;</td><td>2019-02-04</td><td>09:30:20</td><td>149.22</td><td>0</td><td>0</td><td>237350.7</td><td>0.000308</td><td>-0.001029</td><td>149.218971</td></tr><tr><td>&quot;ADSK&quot;</td><td>2019-02-04</td><td>09:30:30</td><td>149.22</td><td>0</td><td>0</td><td>237350.7</td><td>0.000308</td><td>-0.001008</td><td>149.218992</td></tr><tr><td>&quot;ADSK&quot;</td><td>2019-02-04</td><td>09:30:40</td><td>149.22</td><td>0</td><td>0</td><td>237350.7</td><td>0.000308</td><td>-0.000988</td><td>149.219012</td></tr><tr><td>&hellip;</td><td>&hellip;</td><td>&hellip;</td><td>&hellip;</td><td>&hellip;</td><td>&hellip;</td><td>&hellip;</td><td>&hellip;</td><td>&hellip;</td><td>&hellip;</td></tr><tr><td>&quot;ADS&quot;</td><td>2019-12-26</td><td>15:59:20</td><td>110.285</td><td>-85</td><td>85</td><td>81498.9</td><td>0.000286</td><td>0.002311</td><td>110.287311</td></tr><tr><td>&quot;ADS&quot;</td><td>2019-12-26</td><td>15:59:30</td><td>110.27</td><td>-88</td><td>88</td><td>81498.9</td><td>0.000286</td><td>0.001634</td><td>110.271634</td></tr><tr><td>&quot;ADS&quot;</td><td>2019-12-26</td><td>15:59:40</td><td>110.335</td><td>-100</td><td>100</td><td>81498.9</td><td>0.000286</td><td>0.000885</td><td>110.335885</td></tr><tr><td>&quot;ADS&quot;</td><td>2019-12-26</td><td>15:59:50</td><td>110.355</td><td>0</td><td>0</td><td>81498.9</td><td>0.000286</td><td>0.000867</td><td>110.355867</td></tr><tr><td>&quot;ADS&quot;</td><td>2019-12-26</td><td>16:00:00</td><td>110.355</td><td>0</td><td>0</td><td>81498.9</td><td>0.000286</td><td>0.00085</td><td>110.35585</td></tr></tbody></table></div>"
      ],
      "text/plain": [
       "shape: (26_151_311, 10)\n",
       "┌───────┬────────────┬──────────┬─────────┬───┬──────────┬──────────┬───────────┬────────────────┐\n",
       "│ stock ┆ date       ┆ time     ┆ midEnd  ┆ … ┆ adv      ┆ vol      ┆ impact    ┆ impacted_price │\n",
       "│ ---   ┆ ---        ┆ ---      ┆ ---     ┆   ┆ ---      ┆ ---      ┆ ---       ┆ ---            │\n",
       "│ cat   ┆ date       ┆ time     ┆ f64     ┆   ┆ f64      ┆ f64      ┆ f64       ┆ f64            │\n",
       "╞═══════╪════════════╪══════════╪═════════╪═══╪══════════╪══════════╪═══════════╪════════════════╡\n",
       "│ ADSK  ┆ 2019-02-04 ┆ 09:30:00 ┆ 149.25  ┆ … ┆ 237350.7 ┆ 0.000308 ┆ -0.001071 ┆ 149.248929     │\n",
       "│ ADSK  ┆ 2019-02-04 ┆ 09:30:10 ┆ 149.22  ┆ … ┆ 237350.7 ┆ 0.000308 ┆ -0.00105  ┆ 149.21895      │\n",
       "│ ADSK  ┆ 2019-02-04 ┆ 09:30:20 ┆ 149.22  ┆ … ┆ 237350.7 ┆ 0.000308 ┆ -0.001029 ┆ 149.218971     │\n",
       "│ ADSK  ┆ 2019-02-04 ┆ 09:30:30 ┆ 149.22  ┆ … ┆ 237350.7 ┆ 0.000308 ┆ -0.001008 ┆ 149.218992     │\n",
       "│ ADSK  ┆ 2019-02-04 ┆ 09:30:40 ┆ 149.22  ┆ … ┆ 237350.7 ┆ 0.000308 ┆ -0.000988 ┆ 149.219012     │\n",
       "│ …     ┆ …          ┆ …        ┆ …       ┆ … ┆ …        ┆ …        ┆ …         ┆ …              │\n",
       "│ ADS   ┆ 2019-12-26 ┆ 15:59:20 ┆ 110.285 ┆ … ┆ 81498.9  ┆ 0.000286 ┆ 0.002311  ┆ 110.287311     │\n",
       "│ ADS   ┆ 2019-12-26 ┆ 15:59:30 ┆ 110.27  ┆ … ┆ 81498.9  ┆ 0.000286 ┆ 0.001634  ┆ 110.271634     │\n",
       "│ ADS   ┆ 2019-12-26 ┆ 15:59:40 ┆ 110.335 ┆ … ┆ 81498.9  ┆ 0.000286 ┆ 0.000885  ┆ 110.335885     │\n",
       "│ ADS   ┆ 2019-12-26 ┆ 15:59:50 ┆ 110.355 ┆ … ┆ 81498.9  ┆ 0.000286 ┆ 0.000867  ┆ 110.355867     │\n",
       "│ ADS   ┆ 2019-12-26 ┆ 16:00:00 ┆ 110.355 ┆ … ┆ 81498.9  ┆ 0.000286 ┆ 0.00085   ┆ 110.35585      │\n",
       "└───────┴────────────┴──────────┴─────────┴───┴──────────┴──────────┴───────────┴────────────────┘"
      ]
     },
     "execution_count": 21,
     "metadata": {},
     "output_type": "execute_result"
    }
   ],
   "source": [
    "# Is vol too low? need to multiply by 100?\n",
    "impacted_df.filter(pl.col('impacted_price').is_not_null())"
   ]
  },
  {
   "cell_type": "code",
   "execution_count": null,
   "metadata": {},
   "outputs": [
    {
     "ename": "AttributeError",
     "evalue": "'Expr' object has no attribute 'update'",
     "output_type": "error",
     "traceback": [
      "\u001b[1;31m---------------------------------------------------------------------------\u001b[0m",
      "\u001b[1;31mAttributeError\u001b[0m                            Traceback (most recent call last)",
      "Cell \u001b[1;32mIn[2], line 3\u001b[0m\n\u001b[0;32m      1\u001b[0m \u001b[38;5;28;01mimport\u001b[39;00m \u001b[38;5;21;01mpolars\u001b[39;00m \u001b[38;5;28;01mas\u001b[39;00m \u001b[38;5;21;01mpl\u001b[39;00m\n\u001b[0;32m      2\u001b[0m df \u001b[38;5;241m=\u001b[39m pl\u001b[38;5;241m.\u001b[39mDataFrame({\u001b[38;5;124m'\u001b[39m\u001b[38;5;124ma\u001b[39m\u001b[38;5;124m'\u001b[39m:[\u001b[38;5;241m1\u001b[39m, \u001b[38;5;241m1\u001b[39m, \u001b[38;5;241m1\u001b[39m, \u001b[38;5;241m2\u001b[39m, \u001b[38;5;241m2\u001b[39m], \u001b[38;5;124m'\u001b[39m\u001b[38;5;124mb\u001b[39m\u001b[38;5;124m'\u001b[39m: [\u001b[38;5;241m1\u001b[39m, \u001b[38;5;241m2\u001b[39m, \u001b[38;5;241m3\u001b[39m, \u001b[38;5;241m1\u001b[39m, \u001b[38;5;241m5\u001b[39m]})\n\u001b[1;32m----> 3\u001b[0m df\u001b[38;5;241m.\u001b[39mwith_columns(\u001b[43mpl\u001b[49m\u001b[38;5;241;43m.\u001b[39;49m\u001b[43mcol\u001b[49m\u001b[43m(\u001b[49m\u001b[38;5;124;43m'\u001b[39;49m\u001b[38;5;124;43mb\u001b[39;49m\u001b[38;5;124;43m'\u001b[39;49m\u001b[43m)\u001b[49m\u001b[38;5;241;43m.\u001b[39;49m\u001b[43mupdate\u001b[49m)\n",
      "\u001b[1;31mAttributeError\u001b[0m: 'Expr' object has no attribute 'update'"
     ]
    }
   ],
   "source": [
    "import polars as pl\n",
    "df = pl.DataFrame({'a':[1, 1, 1, 2, 2], 'b': [1, 2, 3, 1, 5]})\n",
    "df.with_columns(pl.col('b').update)"
   ]
  },
  {
   "cell_type": "code",
   "execution_count": null,
   "metadata": {},
   "outputs": [],
   "source": [
    "from collections import OrderedDict"
   ]
  },
  {
   "cell_type": "code",
   "execution_count": null,
   "metadata": {},
   "outputs": [
    {
     "data": {
      "text/plain": [
       "OrderedDict([('a', 1), ('b', 2)])"
      ]
     },
     "execution_count": 11,
     "metadata": {},
     "output_type": "execute_result"
    }
   ],
   "source": [
    "o = OrderedDict({'a': 1, 'b': 2})\n",
    "o"
   ]
  },
  {
   "cell_type": "code",
   "execution_count": null,
   "metadata": {},
   "outputs": [
    {
     "data": {
      "text/html": [
       "<div><style>\n",
       ".dataframe > thead > tr,\n",
       ".dataframe > tbody > tr {\n",
       "  text-align: right;\n",
       "  white-space: pre-wrap;\n",
       "}\n",
       "</style>\n",
       "<small>shape: (5, 2)</small><table border=\"1\" class=\"dataframe\"><thead><tr><th>a</th><th>b</th></tr><tr><td>i64</td><td>i64</td></tr></thead><tbody><tr><td>1</td><td>1</td></tr><tr><td>1</td><td>2</td></tr><tr><td>1</td><td>3</td></tr><tr><td>2</td><td>1</td></tr><tr><td>2</td><td>5</td></tr></tbody></table></div>"
      ],
      "text/plain": [
       "shape: (5, 2)\n",
       "┌─────┬─────┐\n",
       "│ a   ┆ b   │\n",
       "│ --- ┆ --- │\n",
       "│ i64 ┆ i64 │\n",
       "╞═════╪═════╡\n",
       "│ 1   ┆ 1   │\n",
       "│ 1   ┆ 2   │\n",
       "│ 1   ┆ 3   │\n",
       "│ 2   ┆ 1   │\n",
       "│ 2   ┆ 5   │\n",
       "└─────┴─────┘"
      ]
     },
     "execution_count": 19,
     "metadata": {},
     "output_type": "execute_result"
    }
   ],
   "source": [
    "df1 = pl.DataFrame(df)\n",
    "df1\n",
    "df = 1\n",
    "df1"
   ]
  },
  {
   "cell_type": "code",
   "execution_count": 1,
   "metadata": {},
   "outputs": [
    {
     "name": "stdout",
     "output_type": "stream",
     "text": [
      "Processing c:\\users\\lachl\\onedrive\\desktop\\impactpy\\base\\dist\\impactpy-0.0.17.tar.gz\n",
      "  Installing build dependencies: started\n",
      "  Installing build dependencies: finished with status 'done'\n",
      "  Getting requirements to build wheel: started\n",
      "  Getting requirements to build wheel: finished with status 'done'\n",
      "  Preparing metadata (pyproject.toml): started\n",
      "  Preparing metadata (pyproject.toml): finished with status 'done'\n",
      "Requirement already satisfied: polars in c:\\users\\lachl\\anaconda3\\envs\\impactpy\\lib\\site-packages (from impactpy==0.0.17) (0.20.21)\n",
      "Building wheels for collected packages: impactpy\n",
      "  Building wheel for impactpy (pyproject.toml): started\n",
      "  Building wheel for impactpy (pyproject.toml): finished with status 'done'\n",
      "  Created wheel for impactpy: filename=impactpy-0.0.17-py3-none-any.whl size=6006 sha256=a234c6242a16265a8d3c29cfe1e3d90f0476a5d3dc12b81e330ddf9983ed3e04\n",
      "  Stored in directory: c:\\users\\lachl\\appdata\\local\\pip\\cache\\wheels\\70\\30\\98\\7e6e58d7e06131cd0c0d8fa03de192677d52bd7b8f10c215b5\n",
      "Successfully built impactpy\n",
      "Installing collected packages: impactpy\n",
      "  Attempting uninstall: impactpy\n",
      "    Found existing installation: impactpy 0.0.17\n",
      "    Uninstalling impactpy-0.0.17:\n",
      "      Successfully uninstalled impactpy-0.0.17\n",
      "Successfully installed impactpy-0.0.17\n"
     ]
    }
   ],
   "source": [
    "!pip install \"C:\\Users\\lachl\\OneDrive\\Desktop\\ImpactPy\\base\\dist\\impactpy-0.0.17.tar.gz\""
   ]
  },
  {
   "cell_type": "code",
   "execution_count": 2,
   "metadata": {},
   "outputs": [],
   "source": [
    "import sys\n",
    "sys.path.insert(0, '../')\n",
    "from data.processing.data_processing import load_raw_csvs\n",
    "from impactpy.data import BinSchedule, BinnedData, ColumnBindings\n",
    "from datetime import date, time, timedelta, datetime\n",
    "import polars as pl\n",
    "pl.enable_string_cache()\n",
    "from pathlib import Path"
   ]
  },
  {
   "cell_type": "code",
   "execution_count": 3,
   "metadata": {},
   "outputs": [],
   "source": [
    "DATA_DIR = Path().resolve().parents[0] / 'data' / 'raw_bin_samples'\n",
    "FILES: list[Path] = list(DATA_DIR.iterdir())\n",
    "DTYPES = {'date': pl.Date, 'time': pl.String, 'stock': pl.Categorical,\n",
    "\t'midEnd': pl.Float64, 'trade': pl.Int32}\n",
    "\n",
    "BIN_DURATION = timedelta(seconds=10)\n",
    "OPEN_TIME = time(hour=9, minute=30)\n",
    "CLOSE_TIME = time(hour=16)"
   ]
  },
  {
   "cell_type": "code",
   "execution_count": 4,
   "metadata": {},
   "outputs": [],
   "source": [
    "lf = load_raw_csvs(FILES, DTYPES)\n",
    "lf = lf.rename({'stock': 'symbol'})"
   ]
  },
  {
   "cell_type": "code",
   "execution_count": 5,
   "metadata": {},
   "outputs": [],
   "source": [
    "df = lf.collect()"
   ]
  },
  {
   "cell_type": "code",
   "execution_count": 6,
   "metadata": {},
   "outputs": [],
   "source": [
    "DATES: list[date] = sorted(pl.Series(df.select('date').unique()).to_list())\n",
    "SYMBOLS: set[str] = set(df.get_column('symbol').cat.get_categories().to_list())"
   ]
  },
  {
   "cell_type": "code",
   "execution_count": 7,
   "metadata": {},
   "outputs": [],
   "source": [
    "schedule = BinSchedule(BIN_DURATION, OPEN_TIME, CLOSE_TIME, DATES, SYMBOLS)"
   ]
  },
  {
   "cell_type": "code",
   "execution_count": 12,
   "metadata": {},
   "outputs": [],
   "source": [
    "bindings = ColumnBindings(\n",
    "\tsymbol='symbol',\n",
    "\tdate='date',\n",
    "\ttime='time',\n",
    "\tprice='midEnd',\n",
    "\ttrade='trade'\n",
    ")\n",
    "data = BinnedData(df.lazy(), schedule, bindings)"
   ]
  },
  {
   "cell_type": "code",
   "execution_count": 10,
   "metadata": {},
   "outputs": [
    {
     "data": {
      "text/html": [
       "<div><style>\n",
       ".dataframe > thead > tr,\n",
       ".dataframe > tbody > tr {\n",
       "  text-align: right;\n",
       "  white-space: pre-wrap;\n",
       "}\n",
       "</style>\n",
       "<small>shape: (29_262_500, 5)</small><table border=\"1\" class=\"dataframe\"><thead><tr><th>symbol</th><th>date</th><th>time</th><th>midEnd</th><th>trade</th></tr><tr><td>cat</td><td>date</td><td>time</td><td>f64</td><td>i32</td></tr></thead><tbody><tr><td>&quot;ABBV&quot;</td><td>2019-01-02</td><td>09:30:00</td><td>90.99</td><td>-100</td></tr><tr><td>&quot;ABBV&quot;</td><td>2019-01-02</td><td>09:30:10</td><td>91.12</td><td>0</td></tr><tr><td>&quot;ABBV&quot;</td><td>2019-01-02</td><td>09:30:20</td><td>91.38</td><td>48</td></tr><tr><td>&quot;ABBV&quot;</td><td>2019-01-02</td><td>09:30:30</td><td>91.25</td><td>-29</td></tr><tr><td>&quot;ABBV&quot;</td><td>2019-01-02</td><td>09:30:40</td><td>91.25</td><td>-1</td></tr><tr><td>&hellip;</td><td>&hellip;</td><td>&hellip;</td><td>&hellip;</td><td>&hellip;</td></tr><tr><td>&quot;AGN&quot;</td><td>2019-12-27</td><td>15:59:20</td><td>191.435</td><td>0</td></tr><tr><td>&quot;AGN&quot;</td><td>2019-12-27</td><td>15:59:30</td><td>191.43</td><td>200</td></tr><tr><td>&quot;AGN&quot;</td><td>2019-12-27</td><td>15:59:40</td><td>191.41</td><td>-114</td></tr><tr><td>&quot;AGN&quot;</td><td>2019-12-27</td><td>15:59:50</td><td>191.485</td><td>-120</td></tr><tr><td>&quot;AGN&quot;</td><td>2019-12-27</td><td>16:00:00</td><td>null</td><td>null</td></tr></tbody></table></div>"
      ],
      "text/plain": [
       "shape: (29_262_500, 5)\n",
       "┌────────┬────────────┬──────────┬─────────┬───────┐\n",
       "│ symbol ┆ date       ┆ time     ┆ midEnd  ┆ trade │\n",
       "│ ---    ┆ ---        ┆ ---      ┆ ---     ┆ ---   │\n",
       "│ cat    ┆ date       ┆ time     ┆ f64     ┆ i32   │\n",
       "╞════════╪════════════╪══════════╪═════════╪═══════╡\n",
       "│ ABBV   ┆ 2019-01-02 ┆ 09:30:00 ┆ 90.99   ┆ -100  │\n",
       "│ ABBV   ┆ 2019-01-02 ┆ 09:30:10 ┆ 91.12   ┆ 0     │\n",
       "│ ABBV   ┆ 2019-01-02 ┆ 09:30:20 ┆ 91.38   ┆ 48    │\n",
       "│ ABBV   ┆ 2019-01-02 ┆ 09:30:30 ┆ 91.25   ┆ -29   │\n",
       "│ ABBV   ┆ 2019-01-02 ┆ 09:30:40 ┆ 91.25   ┆ -1    │\n",
       "│ …      ┆ …          ┆ …        ┆ …       ┆ …     │\n",
       "│ AGN    ┆ 2019-12-27 ┆ 15:59:20 ┆ 191.435 ┆ 0     │\n",
       "│ AGN    ┆ 2019-12-27 ┆ 15:59:30 ┆ 191.43  ┆ 200   │\n",
       "│ AGN    ┆ 2019-12-27 ┆ 15:59:40 ┆ 191.41  ┆ -114  │\n",
       "│ AGN    ┆ 2019-12-27 ┆ 15:59:50 ┆ 191.485 ┆ -120  │\n",
       "│ AGN    ┆ 2019-12-27 ┆ 16:00:00 ┆ null    ┆ null  │\n",
       "└────────┴────────────┴──────────┴─────────┴───────┘"
      ]
     },
     "execution_count": 10,
     "metadata": {},
     "output_type": "execute_result"
    }
   ],
   "source": [
    "data.data.collect()"
   ]
  }
 ],
 "metadata": {
  "kernelspec": {
   "display_name": "ImpactPy",
   "language": "python",
   "name": "python3"
  },
  "language_info": {
   "codemirror_mode": {
    "name": "ipython",
    "version": 3
   },
   "file_extension": ".py",
   "mimetype": "text/x-python",
   "name": "python",
   "nbconvert_exporter": "python",
   "pygments_lexer": "ipython3",
   "version": "3.12.2"
  }
 },
 "nbformat": 4,
 "nbformat_minor": 2
}
