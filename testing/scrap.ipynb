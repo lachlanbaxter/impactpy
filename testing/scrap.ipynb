{
 "cells": [
  {
   "cell_type": "code",
   "execution_count": 1,
   "metadata": {},
   "outputs": [],
   "source": [
    "import sys\n",
    "sys.path.append('../')\n",
    "import polars as pl\n",
    "from pathlib import Path\n",
    "from sklearn.linear_model import LinearRegression\n",
    "from datetime import time, datetime\n",
    "import numpy as np\n",
    "from base.impactpy.model.subroutines import (\n",
    "\tcompute_OW_impact, simple_regression, enhance_data, SampleGroup\n",
    ")"
   ]
  },
  {
   "cell_type": "code",
   "execution_count": 2,
   "metadata": {},
   "outputs": [],
   "source": [
    "p = Path().resolve().parents[0] / 'data' / 'raw_bin_samples' / 'clean.arrow'\n",
    "lf = pl.scan_ipc(p)"
   ]
  },
  {
   "cell_type": "code",
   "execution_count": 3,
   "metadata": {},
   "outputs": [],
   "source": [
    "df = lf.collect()"
   ]
  },
  {
   "cell_type": "code",
   "execution_count": 4,
   "metadata": {},
   "outputs": [
    {
     "data": {
      "text/html": [
       "<div><style>\n",
       ".dataframe > thead > tr,\n",
       ".dataframe > tbody > tr {\n",
       "  text-align: right;\n",
       "  white-space: pre-wrap;\n",
       "}\n",
       "</style>\n",
       "<small>shape: (28_677_250, 4)</small><table border=\"1\" class=\"dataframe\"><thead><tr><th>symbol</th><th>timestamp</th><th>price</th><th>trade</th></tr><tr><td>cat</td><td>datetime[μs]</td><td>f64</td><td>i32</td></tr></thead><tbody><tr><td>&quot;ADSK&quot;</td><td>2019-01-02 09:30:00</td><td>125.205</td><td>-287</td></tr><tr><td>&quot;ADSK&quot;</td><td>2019-01-02 09:30:10</td><td>124.61</td><td>20</td></tr><tr><td>&quot;ADSK&quot;</td><td>2019-01-02 09:30:20</td><td>124.61</td><td>0</td></tr><tr><td>&quot;ADSK&quot;</td><td>2019-01-02 09:30:30</td><td>125.155</td><td>200</td></tr><tr><td>&quot;ADSK&quot;</td><td>2019-01-02 09:30:40</td><td>125.705</td><td>-385</td></tr><tr><td>&hellip;</td><td>&hellip;</td><td>&hellip;</td><td>&hellip;</td></tr><tr><td>&quot;ADS&quot;</td><td>2019-12-27 15:59:20</td><td>110.915</td><td>0</td></tr><tr><td>&quot;ADS&quot;</td><td>2019-12-27 15:59:30</td><td>110.95</td><td>0</td></tr><tr><td>&quot;ADS&quot;</td><td>2019-12-27 15:59:40</td><td>110.92</td><td>0</td></tr><tr><td>&quot;ADS&quot;</td><td>2019-12-27 15:59:50</td><td>110.91</td><td>-2</td></tr><tr><td>&quot;ADS&quot;</td><td>2019-12-27 16:00:00</td><td>110.91</td><td>0</td></tr></tbody></table></div>"
      ],
      "text/plain": [
       "shape: (28_677_250, 4)\n",
       "┌────────┬─────────────────────┬─────────┬───────┐\n",
       "│ symbol ┆ timestamp           ┆ price   ┆ trade │\n",
       "│ ---    ┆ ---                 ┆ ---     ┆ ---   │\n",
       "│ cat    ┆ datetime[μs]        ┆ f64     ┆ i32   │\n",
       "╞════════╪═════════════════════╪═════════╪═══════╡\n",
       "│ ADSK   ┆ 2019-01-02 09:30:00 ┆ 125.205 ┆ -287  │\n",
       "│ ADSK   ┆ 2019-01-02 09:30:10 ┆ 124.61  ┆ 20    │\n",
       "│ ADSK   ┆ 2019-01-02 09:30:20 ┆ 124.61  ┆ 0     │\n",
       "│ ADSK   ┆ 2019-01-02 09:30:30 ┆ 125.155 ┆ 200   │\n",
       "│ ADSK   ┆ 2019-01-02 09:30:40 ┆ 125.705 ┆ -385  │\n",
       "│ …      ┆ …                   ┆ …       ┆ …     │\n",
       "│ ADS    ┆ 2019-12-27 15:59:20 ┆ 110.915 ┆ 0     │\n",
       "│ ADS    ┆ 2019-12-27 15:59:30 ┆ 110.95  ┆ 0     │\n",
       "│ ADS    ┆ 2019-12-27 15:59:40 ┆ 110.92  ┆ 0     │\n",
       "│ ADS    ┆ 2019-12-27 15:59:50 ┆ 110.91  ┆ -2    │\n",
       "│ ADS    ┆ 2019-12-27 16:00:00 ┆ 110.91  ┆ 0     │\n",
       "└────────┴─────────────────────┴─────────┴───────┘"
      ]
     },
     "execution_count": 4,
     "metadata": {},
     "output_type": "execute_result"
    }
   ],
   "source": [
    "df"
   ]
  },
  {
   "cell_type": "code",
   "execution_count": 5,
   "metadata": {},
   "outputs": [],
   "source": [
    "push = df.select(pl.col('symbol').unique()).with_columns(push=1)\n",
    "\n",
    "half_life = 300\n",
    "beta = np.log(2) / half_life\n",
    "bin_duration = 10\n",
    "alpha = np.exp(-beta * bin_duration)"
   ]
  },
  {
   "cell_type": "code",
   "execution_count": 6,
   "metadata": {},
   "outputs": [],
   "source": [
    "df = enhance_data(df, 30)"
   ]
  },
  {
   "cell_type": "code",
   "execution_count": 7,
   "metadata": {},
   "outputs": [],
   "source": [
    "df = df.filter(\n",
    "\tpl.col('timestamp').dt.month().ge(2)\n",
    "\t& pl.col('timestamp').dt.month().le(5)\n",
    ")"
   ]
  },
  {
   "cell_type": "code",
   "execution_count": 8,
   "metadata": {},
   "outputs": [],
   "source": [
    "df = compute_OW_impact(df, push, alpha)"
   ]
  },
  {
   "cell_type": "code",
   "execution_count": 9,
   "metadata": {},
   "outputs": [],
   "source": [
    "n_periods = half_life // bin_duration\n",
    "\n",
    "df = df.with_columns(\n",
    "\tpl.col('price').diff(n_periods).over('symbol').mul(100).alias('return'),\n",
    "\tpl.col('impact').diff(n_periods).over(['symbol', pl.col('timestamp').dt.date()]).alias('impact_diff')\n",
    ")"
   ]
  },
  {
   "cell_type": "code",
   "execution_count": 33,
   "metadata": {},
   "outputs": [],
   "source": [
    "train_df = (df\n",
    "\t.filter(\n",
    "\t\tpl.col('timestamp').dt.time().ge(time(10))\n",
    "\t\t& pl.col('timestamp').dt.time().le(time(16))\n",
    "\t)\n",
    "\t.with_columns(\n",
    "\t\tgroup=pl.col('symbol').cast(pl.Categorical),\n",
    "\t\tsample=pl.when(pl.col('timestamp').dt.month().eq(5))\n",
    "\t\t\t.then(SampleGroup.TEST.value)\n",
    "\t\t\t.otherwise(SampleGroup.TRAIN.value)\n",
    "\t)\n",
    ")"
   ]
  },
  {
   "cell_type": "code",
   "execution_count": 34,
   "metadata": {},
   "outputs": [
    {
     "data": {
      "text/html": [
       "<div><style>\n",
       ".dataframe > thead > tr,\n",
       ".dataframe > tbody > tr {\n",
       "  text-align: right;\n",
       "  white-space: pre-wrap;\n",
       "}\n",
       "</style>\n",
       "<small>shape: (8_788_787, 12)</small><table border=\"1\" class=\"dataframe\"><thead><tr><th>symbol</th><th>timestamp</th><th>price</th><th>trade</th><th>vola</th><th>adv</th><th>push</th><th>impact</th><th>return</th><th>impact_diff</th><th>group</th><th>sample</th></tr><tr><td>cat</td><td>datetime[μs]</td><td>f64</td><td>f64</td><td>f64</td><td>f64</td><td>i32</td><td>f64</td><td>f64</td><td>f64</td><td>i32</td><td>i32</td></tr></thead><tbody><tr><td>&quot;ADSK&quot;</td><td>2019-02-01 10:00:00</td><td>147.965</td><td>-0.000177</td><td>0.034882</td><td>250607.285714</td><td>1</td><td>-0.000177</td><td>-0.5</td><td>0.000074</td><td>1</td><td>1</td></tr><tr><td>&quot;ADSK&quot;</td><td>2019-02-01 10:00:10</td><td>147.965</td><td>-0.000173</td><td>0.034882</td><td>250607.285714</td><td>1</td><td>-0.000173</td><td>-4.0</td><td>0.000081</td><td>1</td><td>1</td></tr><tr><td>&quot;ADSK&quot;</td><td>2019-02-01 10:00:20</td><td>147.96</td><td>-0.000203</td><td>0.034882</td><td>250607.285714</td><td>1</td><td>-0.000203</td><td>-6.0</td><td>0.000045</td><td>1</td><td>1</td></tr><tr><td>&quot;ADSK&quot;</td><td>2019-02-01 10:00:30</td><td>147.725</td><td>-0.000212</td><td>0.034882</td><td>250607.285714</td><td>1</td><td>-0.000212</td><td>-29.5</td><td>0.00003</td><td>1</td><td>1</td></tr><tr><td>&quot;ADSK&quot;</td><td>2019-02-01 10:00:40</td><td>147.755</td><td>-0.000164</td><td>0.034882</td><td>250607.285714</td><td>1</td><td>-0.000164</td><td>-26.5</td><td>0.000073</td><td>1</td><td>1</td></tr><tr><td>&hellip;</td><td>&hellip;</td><td>&hellip;</td><td>&hellip;</td><td>&hellip;</td><td>&hellip;</td><td>&hellip;</td><td>&hellip;</td><td>&hellip;</td><td>&hellip;</td><td>&hellip;</td><td>&hellip;</td></tr><tr><td>&quot;ADS&quot;</td><td>2019-05-31 15:59:20</td><td>137.52</td><td>-0.000254</td><td>0.029309</td><td>81173.047619</td><td>1</td><td>-0.000254</td><td>4.5</td><td>0.000215</td><td>1</td><td>3</td></tr><tr><td>&quot;ADS&quot;</td><td>2019-05-31 15:59:30</td><td>137.555</td><td>-0.000227</td><td>0.029309</td><td>81173.047619</td><td>1</td><td>-0.000227</td><td>5.5</td><td>0.00019</td><td>1</td><td>3</td></tr><tr><td>&quot;ADS&quot;</td><td>2019-05-31 15:59:40</td><td>137.56</td><td>-0.000238</td><td>0.029309</td><td>81173.047619</td><td>1</td><td>-0.000238</td><td>9.0</td><td>0.000205</td><td>1</td><td>3</td></tr><tr><td>&quot;ADS&quot;</td><td>2019-05-31 15:59:50</td><td>137.535</td><td>-0.000228</td><td>0.029309</td><td>81173.047619</td><td>1</td><td>-0.000228</td><td>7.5</td><td>0.000314</td><td>1</td><td>3</td></tr><tr><td>&quot;ADS&quot;</td><td>2019-05-31 16:00:00</td><td>137.535</td><td>-0.000223</td><td>0.029309</td><td>81173.047619</td><td>1</td><td>-0.000223</td><td>14.0</td><td>0.00027</td><td>1</td><td>3</td></tr></tbody></table></div>"
      ],
      "text/plain": [
       "shape: (8_788_787, 12)\n",
       "┌────────┬─────────────────────┬─────────┬───────────┬───┬────────┬─────────────┬───────┬────────┐\n",
       "│ symbol ┆ timestamp           ┆ price   ┆ trade     ┆ … ┆ return ┆ impact_diff ┆ group ┆ sample │\n",
       "│ ---    ┆ ---                 ┆ ---     ┆ ---       ┆   ┆ ---    ┆ ---         ┆ ---   ┆ ---    │\n",
       "│ cat    ┆ datetime[μs]        ┆ f64     ┆ f64       ┆   ┆ f64    ┆ f64         ┆ i32   ┆ i32    │\n",
       "╞════════╪═════════════════════╪═════════╪═══════════╪═══╪════════╪═════════════╪═══════╪════════╡\n",
       "│ ADSK   ┆ 2019-02-01 10:00:00 ┆ 147.965 ┆ -0.000177 ┆ … ┆ -0.5   ┆ 0.000074    ┆ 1     ┆ 1      │\n",
       "│ ADSK   ┆ 2019-02-01 10:00:10 ┆ 147.965 ┆ -0.000173 ┆ … ┆ -4.0   ┆ 0.000081    ┆ 1     ┆ 1      │\n",
       "│ ADSK   ┆ 2019-02-01 10:00:20 ┆ 147.96  ┆ -0.000203 ┆ … ┆ -6.0   ┆ 0.000045    ┆ 1     ┆ 1      │\n",
       "│ ADSK   ┆ 2019-02-01 10:00:30 ┆ 147.725 ┆ -0.000212 ┆ … ┆ -29.5  ┆ 0.00003     ┆ 1     ┆ 1      │\n",
       "│ ADSK   ┆ 2019-02-01 10:00:40 ┆ 147.755 ┆ -0.000164 ┆ … ┆ -26.5  ┆ 0.000073    ┆ 1     ┆ 1      │\n",
       "│ …      ┆ …                   ┆ …       ┆ …         ┆ … ┆ …      ┆ …           ┆ …     ┆ …      │\n",
       "│ ADS    ┆ 2019-05-31 15:59:20 ┆ 137.52  ┆ -0.000254 ┆ … ┆ 4.5    ┆ 0.000215    ┆ 1     ┆ 3      │\n",
       "│ ADS    ┆ 2019-05-31 15:59:30 ┆ 137.555 ┆ -0.000227 ┆ … ┆ 5.5    ┆ 0.00019     ┆ 1     ┆ 3      │\n",
       "│ ADS    ┆ 2019-05-31 15:59:40 ┆ 137.56  ┆ -0.000238 ┆ … ┆ 9.0    ┆ 0.000205    ┆ 1     ┆ 3      │\n",
       "│ ADS    ┆ 2019-05-31 15:59:50 ┆ 137.535 ┆ -0.000228 ┆ … ┆ 7.5    ┆ 0.000314    ┆ 1     ┆ 3      │\n",
       "│ ADS    ┆ 2019-05-31 16:00:00 ┆ 137.535 ┆ -0.000223 ┆ … ┆ 14.0   ┆ 0.00027     ┆ 1     ┆ 3      │\n",
       "└────────┴─────────────────────┴─────────┴───────────┴───┴────────┴─────────────┴───────┴────────┘"
      ]
     },
     "execution_count": 34,
     "metadata": {},
     "output_type": "execute_result"
    }
   ],
   "source": [
    "train_df"
   ]
  },
  {
   "cell_type": "code",
   "execution_count": 35,
   "metadata": {},
   "outputs": [],
   "source": [
    "res = simple_regression(train_df, 'impact_diff', 'return', 'group', 'sample')"
   ]
  },
  {
   "cell_type": "code",
   "execution_count": 36,
   "metadata": {},
   "outputs": [
    {
     "data": {
      "text/html": [
       "<div><style>\n",
       ".dataframe > thead > tr,\n",
       ".dataframe > tbody > tr {\n",
       "  text-align: right;\n",
       "  white-space: pre-wrap;\n",
       "}\n",
       "</style>\n",
       "<small>shape: (2, 15)</small><table border=\"1\" class=\"dataframe\"><thead><tr><th>group</th><th>sample</th><th>e_x</th><th>e_y</th><th>e_xx</th><th>e_yy</th><th>e_xy</th><th>n</th><th>beta</th><th>alpha</th><th>mse</th><th>rmse</th><th>tss</th><th>rss</th><th>rsq</th></tr><tr><td>i32</td><td>i32</td><td>f64</td><td>f64</td><td>f64</td><td>f64</td><td>f64</td><td>u32</td><td>f64</td><td>f64</td><td>f64</td><td>f64</td><td>f64</td><td>f64</td><td>f64</td></tr></thead><tbody><tr><td>1</td><td>1</td><td>3.6174e-7</td><td>0.096396</td><td>2.8917e-8</td><td>988.80643</td><td>0.001037</td><td>6459229</td><td>35853.376641</td><td>0.083426</td><td>951.625714</td><td>30.848431</td><td>6.3869e9</td><td>6.1468e9</td><td>0.037593</td></tr><tr><td>1</td><td>3</td><td>2.7753e-7</td><td>0.044306</td><td>2.7654e-8</td><td>1499.730681</td><td>0.001107</td><td>2329558</td><td>35853.376641</td><td>0.083426</td><td>1455.923442</td><td>38.156565</td><td>3.4937e9</td><td>3.3917e9</td><td>0.029209</td></tr></tbody></table></div>"
      ],
      "text/plain": [
       "shape: (2, 15)\n",
       "┌───────┬────────┬───────────┬──────────┬───┬───────────┬──────────┬──────────┬──────────┐\n",
       "│ group ┆ sample ┆ e_x       ┆ e_y      ┆ … ┆ rmse      ┆ tss      ┆ rss      ┆ rsq      │\n",
       "│ ---   ┆ ---    ┆ ---       ┆ ---      ┆   ┆ ---       ┆ ---      ┆ ---      ┆ ---      │\n",
       "│ i32   ┆ i32    ┆ f64       ┆ f64      ┆   ┆ f64       ┆ f64      ┆ f64      ┆ f64      │\n",
       "╞═══════╪════════╪═══════════╪══════════╪═══╪═══════════╪══════════╪══════════╪══════════╡\n",
       "│ 1     ┆ 1      ┆ 3.6174e-7 ┆ 0.096396 ┆ … ┆ 30.848431 ┆ 6.3869e9 ┆ 6.1468e9 ┆ 0.037593 │\n",
       "│ 1     ┆ 3      ┆ 2.7753e-7 ┆ 0.044306 ┆ … ┆ 38.156565 ┆ 3.4937e9 ┆ 3.3917e9 ┆ 0.029209 │\n",
       "└───────┴────────┴───────────┴──────────┴───┴───────────┴──────────┴──────────┴──────────┘"
      ]
     },
     "execution_count": 36,
     "metadata": {},
     "output_type": "execute_result"
    }
   ],
   "source": [
    "res"
   ]
  },
  {
   "cell_type": "code",
   "execution_count": 41,
   "metadata": {},
   "outputs": [
    {
     "data": {
      "text/plain": [
       "<Axes: ylabel='Frequency'>"
      ]
     },
     "execution_count": 41,
     "metadata": {},
     "output_type": "execute_result"
    },
    {
     "data": {
      "image/png": "[encoded data removed]",
      "text/plain": [
       "<Figure size 640x480 with 1 Axes>"
      ]
     },
     "metadata": {},
     "output_type": "display_data"
    }
   ],
   "source": [
    "res.filter(pl.col('sample').eq(SampleGroup.TEST.value)).select(pl.col('rsq').mul(100)).to_pandas().plot(kind='hist')"
   ]
  },
  {
   "cell_type": "code",
   "execution_count": 38,
   "metadata": {},
   "outputs": [
    {
     "data": {
      "text/plain": [
       "1"
      ]
     },
     "execution_count": 38,
     "metadata": {},
     "output_type": "execute_result"
    }
   ],
   "source": [
    "datetime(2000, 1, 1).month"
   ]
  }
 ],
 "metadata": {
  "kernelspec": {
   "display_name": "ImpactPy",
   "language": "python",
   "name": "python3"
  },
  "language_info": {
   "codemirror_mode": {
    "name": "ipython",
    "version": 3
   },
   "file_extension": ".py",
   "mimetype": "text/x-python",
   "name": "python",
   "nbconvert_exporter": "python",
   "pygments_lexer": "ipython3",
   "version": "3.12.2"
  }
 },
 "nbformat": 4,
 "nbformat_minor": 2
}
