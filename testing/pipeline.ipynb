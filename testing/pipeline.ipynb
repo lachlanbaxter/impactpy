{
 "cells": [
  {
   "cell_type": "code",
   "execution_count": 15,
   "metadata": {},
   "outputs": [],
   "source": [
    "import sys\n",
    "sys.path.append('../')\n",
    "\n",
    "from sklearn.pipeline import FeatureUnion, Pipeline\n",
    "from sklearn.preprocessing import FunctionTransformer\n",
    "from sklearn import set_config\n",
    "import polars as pl\n",
    "\n",
    "from base.impactpy.model.transformers import (\n",
    "\tConstantIntradayVolatilityTransformer,\n",
    "\tAverageDailyVolumeTransformer\n",
    ")\n",
    "\n",
    "set_config(transform_output='polars', enable_metadata_routing=True)"
   ]
  },
  {
   "cell_type": "code",
   "execution_count": 2,
   "metadata": {},
   "outputs": [],
   "source": [
    "from pathlib import Path\n",
    "p = Path().resolve().parents[0] / 'data' / 'raw_bin_samples' / 'clean.arrow'\n",
    "lf = pl.scan_ipc(p)"
   ]
  },
  {
   "cell_type": "code",
   "execution_count": 3,
   "metadata": {},
   "outputs": [],
   "source": [
    "df = lf.collect()"
   ]
  },
  {
   "cell_type": "code",
   "execution_count": 4,
   "metadata": {},
   "outputs": [
    {
     "data": {
      "text/html": [
       "<div><style>\n",
       ".dataframe > thead > tr,\n",
       ".dataframe > tbody > tr {\n",
       "  text-align: right;\n",
       "  white-space: pre-wrap;\n",
       "}\n",
       "</style>\n",
       "<small>shape: (28_677_250, 4)</small><table border=\"1\" class=\"dataframe\"><thead><tr><th>symbol</th><th>timestamp</th><th>price</th><th>trade</th></tr><tr><td>cat</td><td>datetime[μs]</td><td>f64</td><td>i32</td></tr></thead><tbody><tr><td>&quot;ADSK&quot;</td><td>2019-01-02 09:30:00</td><td>125.205</td><td>-287</td></tr><tr><td>&quot;ADSK&quot;</td><td>2019-01-02 09:30:10</td><td>124.61</td><td>20</td></tr><tr><td>&quot;ADSK&quot;</td><td>2019-01-02 09:30:20</td><td>124.61</td><td>0</td></tr><tr><td>&quot;ADSK&quot;</td><td>2019-01-02 09:30:30</td><td>125.155</td><td>200</td></tr><tr><td>&quot;ADSK&quot;</td><td>2019-01-02 09:30:40</td><td>125.705</td><td>-385</td></tr><tr><td>&hellip;</td><td>&hellip;</td><td>&hellip;</td><td>&hellip;</td></tr><tr><td>&quot;ADS&quot;</td><td>2019-12-27 15:59:20</td><td>110.915</td><td>0</td></tr><tr><td>&quot;ADS&quot;</td><td>2019-12-27 15:59:30</td><td>110.95</td><td>0</td></tr><tr><td>&quot;ADS&quot;</td><td>2019-12-27 15:59:40</td><td>110.92</td><td>0</td></tr><tr><td>&quot;ADS&quot;</td><td>2019-12-27 15:59:50</td><td>110.91</td><td>-2</td></tr><tr><td>&quot;ADS&quot;</td><td>2019-12-27 16:00:00</td><td>110.91</td><td>0</td></tr></tbody></table></div>"
      ],
      "text/plain": [
       "shape: (28_677_250, 4)\n",
       "┌────────┬─────────────────────┬─────────┬───────┐\n",
       "│ symbol ┆ timestamp           ┆ price   ┆ trade │\n",
       "│ ---    ┆ ---                 ┆ ---     ┆ ---   │\n",
       "│ cat    ┆ datetime[μs]        ┆ f64     ┆ i32   │\n",
       "╞════════╪═════════════════════╪═════════╪═══════╡\n",
       "│ ADSK   ┆ 2019-01-02 09:30:00 ┆ 125.205 ┆ -287  │\n",
       "│ ADSK   ┆ 2019-01-02 09:30:10 ┆ 124.61  ┆ 20    │\n",
       "│ ADSK   ┆ 2019-01-02 09:30:20 ┆ 124.61  ┆ 0     │\n",
       "│ ADSK   ┆ 2019-01-02 09:30:30 ┆ 125.155 ┆ 200   │\n",
       "│ ADSK   ┆ 2019-01-02 09:30:40 ┆ 125.705 ┆ -385  │\n",
       "│ …      ┆ …                   ┆ …       ┆ …     │\n",
       "│ ADS    ┆ 2019-12-27 15:59:20 ┆ 110.915 ┆ 0     │\n",
       "│ ADS    ┆ 2019-12-27 15:59:30 ┆ 110.95  ┆ 0     │\n",
       "│ ADS    ┆ 2019-12-27 15:59:40 ┆ 110.92  ┆ 0     │\n",
       "│ ADS    ┆ 2019-12-27 15:59:50 ┆ 110.91  ┆ -2    │\n",
       "│ ADS    ┆ 2019-12-27 16:00:00 ┆ 110.91  ┆ 0     │\n",
       "└────────┴─────────────────────┴─────────┴───────┘"
      ]
     },
     "execution_count": 4,
     "metadata": {},
     "output_type": "execute_result"
    }
   ],
   "source": [
    "df"
   ]
  },
  {
   "cell_type": "code",
   "execution_count": 17,
   "metadata": {},
   "outputs": [],
   "source": [
    "window = 30\n",
    "\n",
    "def set_col_routing(trans):\n",
    "\treturn (\n",
    "\t\ttrans\n",
    "\t\t.set_fit_request(cols=True)\n",
    "\t\t.set_transform_request(cols=True)\n",
    "\t)\n",
    "\n",
    "vola_trans = set_col_routing(ConstantIntradayVolatilityTransformer(window, 'vola'))\n",
    "volu_trans = set_col_routing(AverageDailyVolumeTransformer(window, 'volu'))\n",
    "\n",
    "union = FeatureUnion([\n",
    "\t('original', 'passthrough'),\n",
    "\t('vola_trans', vola_trans),\n",
    "\t('volu_trans', volu_trans),\n",
    "])\n",
    "\n",
    "def drop_nulls(df: pl.DataFrame) -> pl.DataFrame:\n",
    "\treturn df.drop_nulls()\n",
    "drop_null_trans = FunctionTransformer(drop_nulls)\n",
    "\n",
    "pipeline = Pipeline([\n",
    "\t('rolling_estimates', union),\n",
    "\t('drop_nulls', drop_null_trans),\n",
    "])\n",
    "\n",
    "cols ={\n",
    "\t'timestamp': 'timestamp',\n",
    "\t'price': 'price',\n",
    "\t'symbol': 'symbol'\n",
    "}"
   ]
  },
  {
   "cell_type": "code",
   "execution_count": 18,
   "metadata": {},
   "outputs": [
    {
     "data": {
      "text/html": [
       "<div><style>\n",
       ".dataframe > thead > tr,\n",
       ".dataframe > tbody > tr {\n",
       "  text-align: right;\n",
       "  white-space: pre-wrap;\n",
       "}\n",
       "</style>\n",
       "<small>shape: (26_268_361, 6)</small><table border=\"1\" class=\"dataframe\"><thead><tr><th>symbol</th><th>timestamp</th><th>price</th><th>trade</th><th>vola</th><th>volu</th></tr><tr><td>cat</td><td>datetime[μs]</td><td>f64</td><td>i32</td><td>f64</td><td>f64</td></tr></thead><tbody><tr><td>&quot;ADSK&quot;</td><td>2019-02-01 09:30:00</td><td>147.67</td><td>0</td><td>0.034882</td><td>250607.285714</td></tr><tr><td>&quot;ADSK&quot;</td><td>2019-02-01 09:30:10</td><td>147.66</td><td>0</td><td>0.034882</td><td>250607.285714</td></tr><tr><td>&quot;ADSK&quot;</td><td>2019-02-01 09:30:20</td><td>147.66</td><td>0</td><td>0.034882</td><td>250607.285714</td></tr><tr><td>&quot;ADSK&quot;</td><td>2019-02-01 09:30:30</td><td>147.66</td><td>0</td><td>0.034882</td><td>250607.285714</td></tr><tr><td>&quot;ADSK&quot;</td><td>2019-02-01 09:30:40</td><td>147.665</td><td>0</td><td>0.034882</td><td>250607.285714</td></tr><tr><td>&hellip;</td><td>&hellip;</td><td>&hellip;</td><td>&hellip;</td><td>&hellip;</td><td>&hellip;</td></tr><tr><td>&quot;ADS&quot;</td><td>2019-12-27 15:59:20</td><td>110.915</td><td>0</td><td>0.02861</td><td>81498.9</td></tr><tr><td>&quot;ADS&quot;</td><td>2019-12-27 15:59:30</td><td>110.95</td><td>0</td><td>0.02861</td><td>81498.9</td></tr><tr><td>&quot;ADS&quot;</td><td>2019-12-27 15:59:40</td><td>110.92</td><td>0</td><td>0.02861</td><td>81498.9</td></tr><tr><td>&quot;ADS&quot;</td><td>2019-12-27 15:59:50</td><td>110.91</td><td>-2</td><td>0.02861</td><td>81498.9</td></tr><tr><td>&quot;ADS&quot;</td><td>2019-12-27 16:00:00</td><td>110.91</td><td>0</td><td>0.02861</td><td>81498.9</td></tr></tbody></table></div>"
      ],
      "text/plain": [
       "shape: (26_268_361, 6)\n",
       "┌────────┬─────────────────────┬─────────┬───────┬──────────┬───────────────┐\n",
       "│ symbol ┆ timestamp           ┆ price   ┆ trade ┆ vola     ┆ volu          │\n",
       "│ ---    ┆ ---                 ┆ ---     ┆ ---   ┆ ---      ┆ ---           │\n",
       "│ cat    ┆ datetime[μs]        ┆ f64     ┆ i32   ┆ f64      ┆ f64           │\n",
       "╞════════╪═════════════════════╪═════════╪═══════╪══════════╪═══════════════╡\n",
       "│ ADSK   ┆ 2019-02-01 09:30:00 ┆ 147.67  ┆ 0     ┆ 0.034882 ┆ 250607.285714 │\n",
       "│ ADSK   ┆ 2019-02-01 09:30:10 ┆ 147.66  ┆ 0     ┆ 0.034882 ┆ 250607.285714 │\n",
       "│ ADSK   ┆ 2019-02-01 09:30:20 ┆ 147.66  ┆ 0     ┆ 0.034882 ┆ 250607.285714 │\n",
       "│ ADSK   ┆ 2019-02-01 09:30:30 ┆ 147.66  ┆ 0     ┆ 0.034882 ┆ 250607.285714 │\n",
       "│ ADSK   ┆ 2019-02-01 09:30:40 ┆ 147.665 ┆ 0     ┆ 0.034882 ┆ 250607.285714 │\n",
       "│ …      ┆ …                   ┆ …       ┆ …     ┆ …        ┆ …             │\n",
       "│ ADS    ┆ 2019-12-27 15:59:20 ┆ 110.915 ┆ 0     ┆ 0.02861  ┆ 81498.9       │\n",
       "│ ADS    ┆ 2019-12-27 15:59:30 ┆ 110.95  ┆ 0     ┆ 0.02861  ┆ 81498.9       │\n",
       "│ ADS    ┆ 2019-12-27 15:59:40 ┆ 110.92  ┆ 0     ┆ 0.02861  ┆ 81498.9       │\n",
       "│ ADS    ┆ 2019-12-27 15:59:50 ┆ 110.91  ┆ -2    ┆ 0.02861  ┆ 81498.9       │\n",
       "│ ADS    ┆ 2019-12-27 16:00:00 ┆ 110.91  ┆ 0     ┆ 0.02861  ┆ 81498.9       │\n",
       "└────────┴─────────────────────┴─────────┴───────┴──────────┴───────────────┘"
      ]
     },
     "execution_count": 18,
     "metadata": {},
     "output_type": "execute_result"
    }
   ],
   "source": [
    "pipeline.fit_transform(df, cols=cols)"
   ]
  },
  {
   "cell_type": "code",
   "execution_count": 9,
   "metadata": {},
   "outputs": [
    {
     "data": {
      "text/html": [
       "<div><style>\n",
       ".dataframe > thead > tr,\n",
       ".dataframe > tbody > tr {\n",
       "  text-align: right;\n",
       "  white-space: pre-wrap;\n",
       "}\n",
       "</style>\n",
       "<small>shape: (28_677_250, 6)</small><table border=\"1\" class=\"dataframe\"><thead><tr><th>symbol</th><th>timestamp</th><th>price</th><th>trade</th><th>vola</th><th>volu</th></tr><tr><td>cat</td><td>datetime[μs]</td><td>f64</td><td>i32</td><td>f64</td><td>f64</td></tr></thead><tbody><tr><td>&quot;ADSK&quot;</td><td>2019-01-02 09:30:00</td><td>125.205</td><td>-287</td><td>null</td><td>null</td></tr><tr><td>&quot;ADSK&quot;</td><td>2019-01-02 09:30:10</td><td>124.61</td><td>20</td><td>null</td><td>null</td></tr><tr><td>&quot;ADSK&quot;</td><td>2019-01-02 09:30:20</td><td>124.61</td><td>0</td><td>null</td><td>null</td></tr><tr><td>&quot;ADSK&quot;</td><td>2019-01-02 09:30:30</td><td>125.155</td><td>200</td><td>null</td><td>null</td></tr><tr><td>&quot;ADSK&quot;</td><td>2019-01-02 09:30:40</td><td>125.705</td><td>-385</td><td>null</td><td>null</td></tr><tr><td>&hellip;</td><td>&hellip;</td><td>&hellip;</td><td>&hellip;</td><td>&hellip;</td><td>&hellip;</td></tr><tr><td>&quot;ADS&quot;</td><td>2019-12-27 15:59:20</td><td>110.915</td><td>0</td><td>0.02861</td><td>81498.9</td></tr><tr><td>&quot;ADS&quot;</td><td>2019-12-27 15:59:30</td><td>110.95</td><td>0</td><td>0.02861</td><td>81498.9</td></tr><tr><td>&quot;ADS&quot;</td><td>2019-12-27 15:59:40</td><td>110.92</td><td>0</td><td>0.02861</td><td>81498.9</td></tr><tr><td>&quot;ADS&quot;</td><td>2019-12-27 15:59:50</td><td>110.91</td><td>-2</td><td>0.02861</td><td>81498.9</td></tr><tr><td>&quot;ADS&quot;</td><td>2019-12-27 16:00:00</td><td>110.91</td><td>0</td><td>0.02861</td><td>81498.9</td></tr></tbody></table></div>"
      ],
      "text/plain": [
       "shape: (28_677_250, 6)\n",
       "┌────────┬─────────────────────┬─────────┬───────┬─────────┬─────────┐\n",
       "│ symbol ┆ timestamp           ┆ price   ┆ trade ┆ vola    ┆ volu    │\n",
       "│ ---    ┆ ---                 ┆ ---     ┆ ---   ┆ ---     ┆ ---     │\n",
       "│ cat    ┆ datetime[μs]        ┆ f64     ┆ i32   ┆ f64     ┆ f64     │\n",
       "╞════════╪═════════════════════╪═════════╪═══════╪═════════╪═════════╡\n",
       "│ ADSK   ┆ 2019-01-02 09:30:00 ┆ 125.205 ┆ -287  ┆ null    ┆ null    │\n",
       "│ ADSK   ┆ 2019-01-02 09:30:10 ┆ 124.61  ┆ 20    ┆ null    ┆ null    │\n",
       "│ ADSK   ┆ 2019-01-02 09:30:20 ┆ 124.61  ┆ 0     ┆ null    ┆ null    │\n",
       "│ ADSK   ┆ 2019-01-02 09:30:30 ┆ 125.155 ┆ 200   ┆ null    ┆ null    │\n",
       "│ ADSK   ┆ 2019-01-02 09:30:40 ┆ 125.705 ┆ -385  ┆ null    ┆ null    │\n",
       "│ …      ┆ …                   ┆ …       ┆ …     ┆ …       ┆ …       │\n",
       "│ ADS    ┆ 2019-12-27 15:59:20 ┆ 110.915 ┆ 0     ┆ 0.02861 ┆ 81498.9 │\n",
       "│ ADS    ┆ 2019-12-27 15:59:30 ┆ 110.95  ┆ 0     ┆ 0.02861 ┆ 81498.9 │\n",
       "│ ADS    ┆ 2019-12-27 15:59:40 ┆ 110.92  ┆ 0     ┆ 0.02861 ┆ 81498.9 │\n",
       "│ ADS    ┆ 2019-12-27 15:59:50 ┆ 110.91  ┆ -2    ┆ 0.02861 ┆ 81498.9 │\n",
       "│ ADS    ┆ 2019-12-27 16:00:00 ┆ 110.91  ┆ 0     ┆ 0.02861 ┆ 81498.9 │\n",
       "└────────┴─────────────────────┴─────────┴───────┴─────────┴─────────┘"
      ]
     },
     "execution_count": 9,
     "metadata": {},
     "output_type": "execute_result"
    }
   ],
   "source": [
    "union.fit_transform(df, cols=cols)"
   ]
  },
  {
   "cell_type": "code",
   "execution_count": 13,
   "metadata": {},
   "outputs": [
    {
     "data": {
      "text/html": [
       "<div><style>\n",
       ".dataframe > thead > tr,\n",
       ".dataframe > tbody > tr {\n",
       "  text-align: right;\n",
       "  white-space: pre-wrap;\n",
       "}\n",
       "</style>\n",
       "<small>shape: (11_221, 3)</small><table border=\"1\" class=\"dataframe\"><thead><tr><th>symbol</th><th>date</th><th>volu</th></tr><tr><td>cat</td><td>date</td><td>f64</td></tr></thead><tbody><tr><td>&quot;ADSK&quot;</td><td>2019-02-01</td><td>250607.285714</td></tr><tr><td>&quot;ADSK&quot;</td><td>2019-02-04</td><td>251257.714286</td></tr><tr><td>&quot;ADSK&quot;</td><td>2019-02-05</td><td>237350.7</td></tr><tr><td>&quot;ADSK&quot;</td><td>2019-02-06</td><td>235164.47619</td></tr><tr><td>&quot;ADSK&quot;</td><td>2019-02-07</td><td>238315.761905</td></tr><tr><td>&hellip;</td><td>&hellip;</td><td>&hellip;</td></tr><tr><td>&quot;ADS&quot;</td><td>2019-12-20</td><td>90423.619048</td></tr><tr><td>&quot;ADS&quot;</td><td>2019-12-23</td><td>88878.952381</td></tr><tr><td>&quot;ADS&quot;</td><td>2019-12-24</td><td>85781.4</td></tr><tr><td>&quot;ADS&quot;</td><td>2019-12-26</td><td>82936.666667</td></tr><tr><td>&quot;ADS&quot;</td><td>2019-12-27</td><td>81498.9</td></tr></tbody></table></div>"
      ],
      "text/plain": [
       "shape: (11_221, 3)\n",
       "┌────────┬────────────┬───────────────┐\n",
       "│ symbol ┆ date       ┆ volu          │\n",
       "│ ---    ┆ ---        ┆ ---           │\n",
       "│ cat    ┆ date       ┆ f64           │\n",
       "╞════════╪════════════╪═══════════════╡\n",
       "│ ADSK   ┆ 2019-02-01 ┆ 250607.285714 │\n",
       "│ ADSK   ┆ 2019-02-04 ┆ 251257.714286 │\n",
       "│ ADSK   ┆ 2019-02-05 ┆ 237350.7      │\n",
       "│ ADSK   ┆ 2019-02-06 ┆ 235164.47619  │\n",
       "│ ADSK   ┆ 2019-02-07 ┆ 238315.761905 │\n",
       "│ …      ┆ …          ┆ …             │\n",
       "│ ADS    ┆ 2019-12-20 ┆ 90423.619048  │\n",
       "│ ADS    ┆ 2019-12-23 ┆ 88878.952381  │\n",
       "│ ADS    ┆ 2019-12-24 ┆ 85781.4       │\n",
       "│ ADS    ┆ 2019-12-26 ┆ 82936.666667  │\n",
       "│ ADS    ┆ 2019-12-27 ┆ 81498.9       │\n",
       "└────────┴────────────┴───────────────┘"
      ]
     },
     "execution_count": 13,
     "metadata": {},
     "output_type": "execute_result"
    }
   ],
   "source": [
    "union.get_params()['volu_trans'].estimates_"
   ]
  }
 ],
 "metadata": {
  "kernelspec": {
   "display_name": "ImpactPy",
   "language": "python",
   "name": "python3"
  },
  "language_info": {
   "codemirror_mode": {
    "name": "ipython",
    "version": 3
   },
   "file_extension": ".py",
   "mimetype": "text/x-python",
   "name": "python",
   "nbconvert_exporter": "python",
   "pygments_lexer": "ipython3",
   "version": "3.12.2"
  }
 },
 "nbformat": 4,
 "nbformat_minor": 2
}
